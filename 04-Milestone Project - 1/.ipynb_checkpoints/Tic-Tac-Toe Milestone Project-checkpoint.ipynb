{
 "cells": [
  {
   "cell_type": "code",
   "execution_count": 1,
   "metadata": {},
   "outputs": [],
   "source": [
    "from IPython.display import clear_output"
   ]
  },
  {
   "cell_type": "code",
   "execution_count": 2,
   "metadata": {},
   "outputs": [],
   "source": [
    "def display_game(board):\n",
    "    \n",
    "    print(*board[0], sep=' ')\n",
    "    print(*board[1], sep=' ')\n",
    "    print(*board[2], sep=' ')"
   ]
  },
  {
   "cell_type": "code",
   "execution_count": 3,
   "metadata": {},
   "outputs": [],
   "source": [
    "def req_move(player, used_nums):\n",
    "    \n",
    "    xo = ['X', 'O']\n",
    "    p = 'null'\n",
    "    p_digit = 'null'\n",
    "    \n",
    "    while p_digit not in range(1,10):\n",
    "        \n",
    "        p = input(\"Enter position you want to place a marker at (1-9): \")\n",
    "        p_digit = int(p)\n",
    "\n",
    "        if p in used_nums:\n",
    "            print(f\"{p} has already been used! Please use another number (1-9)\")\n",
    "            p_digit = 'null'\n",
    "            continue\n",
    "        \n",
    "        if p_digit not in range(1,10):\n",
    "            print(\"Invalid position! Enter a digit in the range of 1-9\")\n",
    "        else:\n",
    "            pass\n",
    "        \n",
    "    if player in xo:\n",
    "        xo.remove(player)\n",
    "        print(xo)\n",
    "        \n",
    "    return xo[0], p \n",
    "        "
   ]
  },
  {
   "cell_type": "code",
   "execution_count": 4,
   "metadata": {},
   "outputs": [],
   "source": [
    "def play_again():\n",
    "    \n",
    "    options = ['Y','N']\n",
    "    restart = 'null'\n",
    "    \n",
    "    while restart not in options:\n",
    "        \n",
    "        restart = input(\"Game finished! Play again? Y/N\").upper()\n",
    "        \n",
    "        if restart not in options:\n",
    "            print(\"Invalid option! Please pick between Y/N\")\n",
    "            continue\n",
    "        \n",
    "        if restart == 'Y':\n",
    "            return True\n",
    "        else:\n",
    "            return False\n",
    "        "
   ]
  },
  {
   "cell_type": "code",
   "execution_count": 5,
   "metadata": {},
   "outputs": [],
   "source": [
    "# Function to start game\n",
    "def game_start():\n",
    "    \n",
    "    start = True\n",
    "    while start:\n",
    "        player = 'null'\n",
    "        sides = ['X', 'O']\n",
    "\n",
    "        used_p = []\n",
    "\n",
    "        # Mapping keys to game board positions\n",
    "        d = {'7':' ', '8':' ', '9':' ','4':' ', '5':' ', '6':' ','1':' ', '2':' ', '3':' '}\n",
    "        b = [d['7'],'|', d['8'],'|', d['9']], [d['4'],'|', d['5'],'|', d['6']], [d['1'],'|', d['2'],'|', d['3']]\n",
    "        # d = {'7':b[0][0], '8':b[0][2], '9':b[0][4],'4':b[1][0], '5':b[1][2], '6':b[1][4],'1':b[2][0], '2':b[2][2], '3':b[2][4]}\n",
    "        game_board = range(1,10)\n",
    "        #print(d)\n",
    "        while player not in sides:\n",
    "\n",
    "            # Ask player 1 for role X or O\n",
    "            player = input(\"Will player 1 be X or O? \").upper()\n",
    "\n",
    "            # Check if user picked X or O\n",
    "            if player not in sides:\n",
    "                print(\"Input is not valid! Please choose X or O\")\n",
    "            else:\n",
    "                pass\n",
    "\n",
    "        print()\n",
    "\n",
    "        # Display game board\n",
    "        display_game(b)\n",
    "        print()\n",
    "\n",
    "\n",
    "\n",
    "        while len(used_p) != 9:\n",
    "\n",
    "            next_move = req_move(player, used_p)\n",
    "            #print(next_move)\n",
    "            used_p.append(next_move[1])\n",
    "            clear_output()\n",
    "\n",
    "            d[next_move[1]] = player\n",
    "            player = next_move[0]\n",
    "            print(used_p)\n",
    "            b = [d['7'],'|', d['8'],'|', d['9']], [d['4'],'|', d['5'],'|', d['6']], [d['1'],'|', d['2'],'|', d['3']]\n",
    "\n",
    "            display_game(b)\n",
    "        \n",
    "        start = play_again()\n",
    "        clear_output()\n",
    "    \n",
    "    "
   ]
  },
  {
   "cell_type": "code",
   "execution_count": 6,
   "metadata": {},
   "outputs": [],
   "source": [
    "game_start()"
   ]
  },
  {
   "cell_type": "code",
   "execution_count": null,
   "metadata": {},
   "outputs": [],
   "source": []
  }
 ],
 "metadata": {
  "kernelspec": {
   "display_name": "Python 3",
   "language": "python",
   "name": "python3"
  },
  "language_info": {
   "codemirror_mode": {
    "name": "ipython",
    "version": 3
   },
   "file_extension": ".py",
   "mimetype": "text/x-python",
   "name": "python",
   "nbconvert_exporter": "python",
   "pygments_lexer": "ipython3",
   "version": "3.7.4"
  }
 },
 "nbformat": 4,
 "nbformat_minor": 2
}
